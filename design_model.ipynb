{
 "cells": [
  {
   "cell_type": "markdown",
   "metadata": {},
   "source": [
    "## Transformer "
   ]
  },
  {
   "cell_type": "code",
   "execution_count": 1,
   "metadata": {},
   "outputs": [
    {
     "name": "stdout",
     "output_type": "stream",
     "text": [
      "5\n",
      "torch.Size([1, 48, 48, 48, 48]) torch.Size([1, 96, 24, 24, 24]) torch.Size([1, 192, 12, 12, 12]) torch.Size([1, 384, 6, 6, 6]) torch.Size([1, 768, 3, 3, 3])\n"
     ]
    }
   ],
   "source": [
    "from architecture.transformer import transformerBranch\n",
    "import torch \n",
    "\n",
    "model = transformerBranch(\n",
    "    img_size=(96, 96, 96),\n",
    "    in_channels=1,\n",
    "    feature_size=48,\n",
    "    use_checkpoint=True,\n",
    ")\n",
    "\n",
    "## input data \n",
    "input= torch.randn(1,1, 96, 96, 96)\n",
    "\n",
    "## output \n",
    "\n",
    "out_put = model(input)\n",
    "\n",
    "print(len(out_put))\n",
    "print(out_put[0].shape, out_put[1].shape, out_put[2].shape, out_put[3].shape, out_put[4].shape)"
   ]
  },
  {
   "cell_type": "code",
   "execution_count": null,
   "metadata": {},
   "outputs": [],
   "source": []
  },
  {
   "cell_type": "markdown",
   "metadata": {},
   "source": [
    "## Convolutional branch "
   ]
  },
  {
   "cell_type": "code",
   "execution_count": 2,
   "metadata": {},
   "outputs": [
    {
     "name": "stdout",
     "output_type": "stream",
     "text": [
      "torch.Size([1, 48, 96, 96, 96]) torch.Size([1, 48, 48, 48, 48]) torch.Size([1, 96, 24, 24, 24]) torch.Size([1, 192, 12, 12, 12]) torch.Size([1, 384, 6, 6, 6])\n"
     ]
    }
   ],
   "source": [
    "from architecture.ConvEncoder import ConvBranch \n",
    "import torch \n",
    "model = ConvBranch()\n",
    "\n",
    "## input data \n",
    "input= torch.randn(1,1, 96, 96, 96)\n",
    "\n",
    "## output \n",
    "\n",
    "out_put = model(input)\n",
    "\n",
    "# print(out_put.shape)\n",
    "print(out_put[0].shape, out_put[1].shape, out_put[2].shape, out_put[3].shape, out_put[4].shape)\n",
    "\n",
    "\n"
   ]
  },
  {
   "cell_type": "markdown",
   "metadata": {},
   "source": [
    "## fusion block"
   ]
  },
  {
   "cell_type": "code",
   "execution_count": null,
   "metadata": {},
   "outputs": [],
   "source": [
    "from architecture.fusion import BiFusion_block_3d\n",
    "import torch\n",
    "fussion_model = BiFusion_block_3d(ch_1=48, ch_2=48, r_2=2, ch_int=48, ch_out=48, drop_rate=0.2)\n",
    "x= torch.randn(1,48, 96, 96, 96)\n",
    "g = torch.randn(1,48, 96, 96, 96)\n",
    "\n",
    "\n",
    "output = fussion_model(x,g)\n",
    "\n",
    "\n",
    "\n",
    "print(output.shape)"
   ]
  },
  {
   "cell_type": "markdown",
   "metadata": {},
   "source": [
    "## Combine transformers and convolutional blocks "
   ]
  },
  {
   "cell_type": "code",
   "execution_count": 1,
   "metadata": {},
   "outputs": [
    {
     "name": "stdout",
     "output_type": "stream",
     "text": [
      "torch.Size([1, 4, 96, 96, 96])\n"
     ]
    }
   ],
   "source": [
    "\n",
    "from architecture.TransConv import TransformerConv\n",
    "import torch \n",
    "\n",
    "\n",
    "model = TransformerConv(\n",
    "    img_size=(96, 96, 96),\n",
    "    in_channels=1,\n",
    "    out_channels=4,\n",
    "    feature_size=48,\n",
    "    use_checkpoint=True,\n",
    ")\n",
    "\n",
    "## input data \n",
    "input= torch.randn(1,1, 96, 96, 96)\n",
    "\n",
    "## output \n",
    "\n",
    "output = model(input)\n",
    "\n",
    "\n",
    "## \n",
    "print(output.shape)"
   ]
  },
  {
   "cell_type": "markdown",
   "metadata": {},
   "source": [
    "## count number of parameters "
   ]
  },
  {
   "cell_type": "code",
   "execution_count": 2,
   "metadata": {},
   "outputs": [
    {
     "name": "stdout",
     "output_type": "stream",
     "text": [
      "Total trainable parameters: 99036222\n"
     ]
    }
   ],
   "source": [
    "# Count the parameters\n",
    "total_params = sum(p.numel() for p in model.parameters() if p.requires_grad)\n",
    "print(\"Total trainable parameters:\", total_params)\n",
    "\n",
    "## five links \n",
    "# Total trainable parameters: 113298702"
   ]
  },
  {
   "cell_type": "markdown",
   "metadata": {},
   "source": [
    "## test the up samplinng block block "
   ]
  },
  {
   "cell_type": "code",
   "execution_count": 2,
   "metadata": {},
   "outputs": [
    {
     "name": "stdout",
     "output_type": "stream",
     "text": [
      "torch.Size([1, 48, 96, 96, 96])\n"
     ]
    }
   ],
   "source": [
    "\n",
    "from utils.utils import UnetrUpBlockLastLayer\n",
    "import torch \n",
    "norm_name = \"instance\"\n",
    "feature_size = 48\n",
    "\n",
    "decoder0 = UnetrUpBlockLastLayer(\n",
    "            spatial_dims=3,\n",
    "            in_channels=feature_size ,\n",
    "            out_channels=feature_size,\n",
    "            kernel_size=3,\n",
    "            upsample_kernel_size=2,\n",
    "            norm_name=norm_name,\n",
    "            res_block=True,\n",
    "        )\n",
    "\n",
    "input_1= torch.randn(1,48, 48, 48, 48)\n",
    "\n",
    "input_2= torch.randn(1,48, 48, 48, 48)\n",
    "\n",
    "output = decoder0(input_1,input_2)\n",
    "\n",
    "print(output.shape)"
   ]
  }
 ],
 "metadata": {
  "kernelspec": {
   "display_name": "SegFormer_env",
   "language": "python",
   "name": "python3"
  },
  "language_info": {
   "codemirror_mode": {
    "name": "ipython",
    "version": 3
   },
   "file_extension": ".py",
   "mimetype": "text/x-python",
   "name": "python",
   "nbconvert_exporter": "python",
   "pygments_lexer": "ipython3",
   "version": "3.8.12"
  }
 },
 "nbformat": 4,
 "nbformat_minor": 2
}
